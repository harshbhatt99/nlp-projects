{
 "cells": [
  {
   "cell_type": "code",
   "execution_count": 267,
   "metadata": {},
   "outputs": [],
   "source": [
    "from pprint import pprint\n",
    "from time import time\n",
    "import logging\n",
    "\n",
    "from sklearn.datasets import fetch_20newsgroups\n",
    "from sklearn.feature_extraction.text import CountVectorizer, TfidfTransformer\n",
    "from gensim.models import Doc2Vec, Word2Vec, KeyedVectors\n",
    "from sklearn.linear_model import SGDClassifier\n",
    "from sklearn.model_selection import GridSearchCV\n",
    "from sklearn.pipeline import Pipeline"
   ]
  },
  {
   "cell_type": "code",
   "execution_count": 268,
   "metadata": {},
   "outputs": [],
   "source": [
    "from sklearn.naive_bayes import MultinomialNB\n",
    "from sklearn.linear_model import LogisticRegression\n",
    "from sklearn.svm import LinearSVC\n",
    "from sklearn.tree import DecisionTreeClassifier"
   ]
  },
  {
   "cell_type": "code",
   "execution_count": 269,
   "metadata": {},
   "outputs": [],
   "source": [
    "from gensim.models.doc2vec import Doc2Vec,TaggedDocument\n",
    "import numpy as np\n",
    "import pandas as pd"
   ]
  },
  {
   "cell_type": "code",
   "execution_count": 270,
   "metadata": {},
   "outputs": [],
   "source": [
    "from sklearn.metrics import confusion_matrix, accuracy_score\n",
    "from sklearn.preprocessing import MinMaxScaler"
   ]
  },
  {
   "cell_type": "code",
   "execution_count": 271,
   "metadata": {},
   "outputs": [],
   "source": [
    "import nltk\n",
    "from nltk.corpus import stopwords\n",
    "from nltk.tokenize import word_tokenize"
   ]
  },
  {
   "cell_type": "code",
   "execution_count": 272,
   "metadata": {},
   "outputs": [],
   "source": [
    "# All Categories:\n",
    "\n",
    "# alt.atheism\n",
    "# talk.religion.misc\n",
    "# comp.graphics\n",
    "# comp.os.ms-windows.misc\n",
    "# comp.sys.ibm.pc.hardware\n",
    "# comp.sys.mac.hardware\n",
    "# comp.windows.x\n",
    "# rec.autos\n",
    "# rec.motorcycles\n",
    "# rec.sport.baseball\n",
    "# rec.sport.hockey\n",
    "# sci.crypt\n",
    "# sci.electronics\n",
    "# sci.med\n",
    "# sci.space\n",
    "# misc.forsale\n",
    "# talk.politics.misc\n",
    "# talk.politics.guns\n",
    "# talk.politics.mideast\n",
    "# talk.politics.guns\n",
    "\n",
    "categories = [\n",
    "    'talk.politics.misc',\n",
    "    'comp.graphics',\n",
    "]"
   ]
  },
  {
   "cell_type": "code",
   "execution_count": 273,
   "metadata": {},
   "outputs": [
    {
     "name": "stdout",
     "output_type": "stream",
     "text": [
      "Loading 20 newsgroups dataset for categories:\n",
      "['talk.politics.misc', 'comp.graphics']\n"
     ]
    }
   ],
   "source": [
    "print(\"Loading 20 newsgroups dataset for categories:\")\n",
    "print(categories)"
   ]
  },
  {
   "cell_type": "code",
   "execution_count": 274,
   "metadata": {},
   "outputs": [
    {
     "name": "stdout",
     "output_type": "stream",
     "text": [
      "Training Data: \n",
      "\n",
      "1049 documents\n",
      "2 categories\n",
      "\n",
      "Testing Data: \n",
      "\n",
      "699 documents\n",
      "2 categories\n"
     ]
    }
   ],
   "source": [
    "train_data = fetch_20newsgroups(subset='train', categories=categories)\n",
    "print(\"Training Data: \\n\")\n",
    "print(f\"{len(train_data.filenames)} documents\")\n",
    "print(f\"{len(train_data.target_names)} categories\")\n",
    "\n",
    "test_data = fetch_20newsgroups(subset='test', categories=categories)\n",
    "print(\"\\nTesting Data: \\n\")\n",
    "print(f\"{len(test_data.filenames)} documents\")\n",
    "print(f\"{len(test_data.target_names)} categories\")"
   ]
  },
  {
   "cell_type": "markdown",
   "metadata": {},
   "source": [
    "Data Cleaning"
   ]
  },
  {
   "cell_type": "code",
   "execution_count": 275,
   "metadata": {},
   "outputs": [],
   "source": [
    "stop_words = set(stopwords.words('english'))"
   ]
  },
  {
   "cell_type": "code",
   "execution_count": 276,
   "metadata": {},
   "outputs": [],
   "source": [
    "import re"
   ]
  },
  {
   "cell_type": "code",
   "execution_count": 277,
   "metadata": {},
   "outputs": [],
   "source": [
    "for i in range(len(train_data.data)):\n",
    "    # Converting all words in lower case.\n",
    "    train_data.data[i] = train_data.data[i].lower()\n",
    "\n",
    "    # \\W indicates non-word characters. This line replaces these characters with blank.\n",
    "    train_data.data[i] = re.sub(r'\\W',' ',train_data.data[i]) \n",
    "    \n",
    "    # \\s+ indicates more than 1 white space. This line replaces those spaces with single space.\n",
    "    train_data.data[i] = re.sub(r'\\s+',' ',train_data.data[i])\n",
    "    \n",
    "\n",
    "for i in range(len(test_data.data)):\n",
    "    test_data.data[i] = test_data.data[i].lower()\n",
    "    test_data.data[i] = re.sub(r'\\W',' ',test_data.data[i]) \n",
    "    # \\W indicates non-word characters. This line replaces these characters with blank.\n",
    "    test_data.data[i] = re.sub(r'\\s+',' ',test_data.data[i])\n",
    "    # \\s+ indicates more than 1 white space. This line replaces those spaces with single space.\n",
    "# train_data.data"
   ]
  },
  {
   "cell_type": "code",
   "execution_count": 278,
   "metadata": {},
   "outputs": [],
   "source": [
    "# Removing the stop words\n",
    "\n",
    "new_corpus_train = []\n",
    "new_corpus_test = []\n",
    "\n",
    "for sentences in train_data.data:\n",
    "    # Splitting the sentences in words\n",
    "    words = word_tokenize(sentences)\n",
    "\n",
    "    filtered_sentence = []\n",
    "\n",
    "    for w in words:\n",
    "        if w not in stop_words:\n",
    "            filtered_sentence.append(w)\n",
    "\n",
    "        # Rejoining the words to form the sentences\n",
    "        s = ' '.join(filtered_sentence)\n",
    "\n",
    "    new_corpus_train.append(s)\n",
    "\n",
    "for sentences in test_data.data:\n",
    "    words = word_tokenize(sentences)\n",
    "\n",
    "    filtered_sentence = []\n",
    "\n",
    "    for w in words:\n",
    "        if w not in stop_words:\n",
    "            filtered_sentence.append(w)\n",
    "\n",
    "        s = ' '.join(filtered_sentence)\n",
    "        \n",
    "    new_corpus_test.append(s)\n"
   ]
  },
  {
   "cell_type": "code",
   "execution_count": 279,
   "metadata": {},
   "outputs": [],
   "source": [
    "train_data.data = new_corpus_train\n",
    "test_data.data = new_corpus_test"
   ]
  },
  {
   "cell_type": "markdown",
   "metadata": {},
   "source": [
    "> CountVectorizer (Feature Extraction)"
   ]
  },
  {
   "cell_type": "code",
   "execution_count": 280,
   "metadata": {},
   "outputs": [],
   "source": [
    "vect = CountVectorizer()\n",
    "X_train_cove = vect.fit_transform(train_data.data)\n",
    "X_test_cove = vect.transform(test_data.data)"
   ]
  },
  {
   "cell_type": "code",
   "execution_count": 281,
   "metadata": {},
   "outputs": [],
   "source": [
    "y_train_cove = train_data.target\n",
    "y_test_cove = test_data.target"
   ]
  },
  {
   "cell_type": "code",
   "execution_count": 282,
   "metadata": {},
   "outputs": [],
   "source": [
    "# Individual Model Training\n",
    "# nb = MultinomialNB()\n",
    "# model = nb.fit(X_train_cove,y_train_cove)\n",
    "# y_predict_cove = model.predict(X_test_cove)\n",
    "# print(\"Confusion Matrix: \", confusion_matrix(y_test_cove, y_predict_cove))\n",
    "# print(\"Accuracy Score: \", accuracy_score(y_test_cove, y_predict_cove))"
   ]
  },
  {
   "cell_type": "markdown",
   "metadata": {},
   "source": [
    "> Benchmarking The Accuracies"
   ]
  },
  {
   "cell_type": "code",
   "execution_count": 283,
   "metadata": {},
   "outputs": [
    {
     "name": "stdout",
     "output_type": "stream",
     "text": [
      "Accuracy for MultinomialNB()  is  0.9814020028612304\n",
      "Accuracy for LogisticRegression()  is  0.9513590844062947\n",
      "Accuracy for LinearSVC()  is  0.949928469241774\n",
      "Accuracy for DecisionTreeClassifier()  is  0.8841201716738197\n"
     ]
    }
   ],
   "source": [
    "# Algorithms\n",
    "# MultinomialNB, LogisticRegression, LinearSVC, DecisionTreeClassifier\n",
    "model_names = [MultinomialNB(), LogisticRegression(), LinearSVC(), DecisionTreeClassifier()]\n",
    "\n",
    "models = [MultinomialNB(), LogisticRegression(max_iter=1000), LinearSVC(dual=True), DecisionTreeClassifier()]\n",
    "accuracies_cove = []\n",
    "\n",
    "# Fit the models\n",
    "for model in models:\n",
    "    model.fit(X_train_cove,y_train_cove)\n",
    "    y_predict_cove = model.predict(X_test_cove)\n",
    "    acc = accuracy_score(y_test_cove, y_predict_cove)\n",
    "    accuracies_cove.append(acc)\n",
    "    print(\"Accuracy for\", model_names[models.index(model)], \" is \", acc)"
   ]
  },
  {
   "cell_type": "markdown",
   "metadata": {},
   "source": [
    "> Doc2Vec (Feature Extraction)"
   ]
  },
  {
   "cell_type": "code",
   "execution_count": 284,
   "metadata": {},
   "outputs": [],
   "source": [
    "# Converting training data into the format required for Doc2Vec\n",
    "\n",
    "d2vtrain = [TaggedDocument((d), tags=[str(i)]) for i, d in enumerate(train_data.data)]\n",
    "model_d2v = Doc2Vec(vector_size=50, alpha=0.025, min_count = 10, dm = 1, epochs = 100)\n",
    "model_d2v.build_vocab(d2vtrain)\n",
    "model_d2v.train(d2vtrain, total_examples=model_d2v.corpus_count, epochs = model_d2v.epochs)\n",
    "\n",
    "# Converting testing data into the format required for Doc2Vec\n",
    "\n",
    "d2vtest = [TaggedDocument((d), tags=[str(i)]) for i, d in enumerate(test_data.data)]\n",
    "model_d2v = Doc2Vec(vector_size=50, alpha=0.025, min_count = 10, dm = 1, epochs = 100)\n",
    "model_d2v.build_vocab(d2vtest)"
   ]
  },
  {
   "cell_type": "code",
   "execution_count": 285,
   "metadata": {},
   "outputs": [],
   "source": [
    "# Parameters for inter_vector should be a list of string not a single string.\n",
    "# So, using .split() method\n",
    "\n",
    "# Preparing vectors for training data\n",
    "doc_vecs_train = [model_d2v.infer_vector(doc.words.split()) for doc in d2vtrain]\n",
    "\n",
    "doc_vecs_test = [model_d2v.infer_vector(doc.words.split()) for doc in d2vtest]\n"
   ]
  },
  {
   "cell_type": "code",
   "execution_count": 286,
   "metadata": {},
   "outputs": [],
   "source": [
    "# Check the shape of doc_vecs and train_data.target (Both should be same)\n",
    "# len(doc_vecs)\n",
    "# len(train_data.target)"
   ]
  },
  {
   "cell_type": "code",
   "execution_count": 287,
   "metadata": {},
   "outputs": [],
   "source": [
    "X_train_d2v = np.array(doc_vecs_train)\n",
    "y_train_d2v = train_data.target\n",
    "\n",
    "X_test_d2v = np.array(doc_vecs_test)\n",
    "y_test_d2v = test_data.target"
   ]
  },
  {
   "cell_type": "code",
   "execution_count": 288,
   "metadata": {},
   "outputs": [],
   "source": [
    "# Individual Model\n",
    "# model_doc2vec = MultinomialNB()\n",
    "# model_doc2vec.fit(X_train_d2v, y_train_d2v)"
   ]
  },
  {
   "cell_type": "markdown",
   "metadata": {},
   "source": [
    "> Benchmarking The Accuracies"
   ]
  },
  {
   "cell_type": "code",
   "execution_count": 289,
   "metadata": {},
   "outputs": [],
   "source": [
    "# models = [MultinomialNB(), LogisticRegression(max_iter=1000), LinearSVC(dual=True), DecisionTreeClassifier()]"
   ]
  },
  {
   "cell_type": "code",
   "execution_count": 290,
   "metadata": {},
   "outputs": [
    {
     "name": "stdout",
     "output_type": "stream",
     "text": [
      "Accuracy for MultinomialNB()  is  0.5565092989985694\n",
      "Accuracy for LogisticRegression()  is  0.5565092989985694\n",
      "Accuracy for LinearSVC()  is  0.4892703862660944\n"
     ]
    }
   ],
   "source": [
    "accuracies_d2v = []\n",
    "\n",
    "# Doc2Vec contains negative values of input data which is not acceptible by MultinomialNB().\n",
    "\n",
    "# Skipping MultinomialNB() for Doc2Vec\n",
    "accuracies_d2v.append(\"NA\")\n",
    "\n",
    "# For other algorithms\n",
    "model_names = [MultinomialNB(), LogisticRegression(), LinearSVC(), DecisionTreeClassifier()]\n",
    "\n",
    "models = [LogisticRegression(max_iter=1000), LinearSVC(dual=True), DecisionTreeClassifier()]\n",
    "\n",
    "\n",
    "# Fit the models\n",
    "for model in models:\n",
    "    model.fit(X_train_d2v,y_train_d2v)\n",
    "    y_predict_d2v = model.predict(X_test_d2v)\n",
    "    acc = accuracy_score(y_test_d2v, y_predict_d2v)\n",
    "    accuracies_d2v.append(acc)\n",
    "    print(\"Accuracy for\", model_names[models.index(model)], \" is \", acc)"
   ]
  },
  {
   "cell_type": "markdown",
   "metadata": {},
   "source": [
    "> Word2Vec (Feature Extraction)"
   ]
  },
  {
   "cell_type": "code",
   "execution_count": 291,
   "metadata": {},
   "outputs": [],
   "source": [
    "# If I have the downloaded model in the bin, I can use the following line for loading the data\n",
    "# w2v_model = KeyedVectors.load_word2vec_format(path_to_bin_file, binary=True)\n",
    "\n",
    "# But, we are using fetch_20newsgroup so we can directly load that in Word2Vec\n",
    "sentences = [doc.split() for doc in train_data.data]\n",
    "\n",
    "model_w2v = Word2Vec(sentences, vector_size=100, window=5, min_count=1, sg=0)\n"
   ]
  },
  {
   "cell_type": "code",
   "execution_count": 292,
   "metadata": {},
   "outputs": [
    {
     "name": "stdout",
     "output_type": "stream",
     "text": [
      "Dimension of word vectors: 100\n"
     ]
    }
   ],
   "source": [
    "# Making the vector space\n",
    "vector_dimension = model_w2v.vector_size\n",
    "print(\"Dimension of word vectors:\", vector_dimension)"
   ]
  },
  {
   "cell_type": "code",
   "execution_count": 293,
   "metadata": {},
   "outputs": [],
   "source": [
    "def embbeding_feats(list_of_lists):\n",
    "    DIMENSION = 100\n",
    "    zero_vector = np.zeros(DIMENSION)\n",
    "    feats = []\n",
    "    corpus = list_of_lists\n",
    "    for doc in corpus:\n",
    "        feats_for_this = np.zeros(DIMENSION)\n",
    "        count_for_this = 0\n",
    "        for token in doc:\n",
    "            if token in model_w2v.wv:\n",
    "                feats_for_this += model_w2v.wv[token]\n",
    "                count_for_this += 1\n",
    "        feats.append(feats_for_this / count_for_this)\n",
    "    return feats\n",
    "\n",
    "X_train_w2v = embbeding_feats(train_data.data)\n",
    "X_test_w2v = embbeding_feats(test_data.data)"
   ]
  },
  {
   "cell_type": "code",
   "execution_count": 294,
   "metadata": {},
   "outputs": [],
   "source": [
    "y_train_w2v = train_data.target\n",
    "y_test_w2v = test_data.target"
   ]
  },
  {
   "cell_type": "code",
   "execution_count": 295,
   "metadata": {},
   "outputs": [],
   "source": [
    "# Individual Algorithm\n",
    "# ml_model_w2v = LogisticRegression()\n",
    "# ml_model_w2v.fit(X_train_w2v, y_train_w2v)"
   ]
  },
  {
   "cell_type": "markdown",
   "metadata": {},
   "source": [
    "> Benchmarking The Accuracies"
   ]
  },
  {
   "cell_type": "code",
   "execution_count": 296,
   "metadata": {},
   "outputs": [
    {
     "name": "stdout",
     "output_type": "stream",
     "text": [
      "Accuracy for MultinomialNB()  is  0.6437768240343348\n",
      "Accuracy for LogisticRegression()  is  0.6452074391988555\n",
      "Accuracy for LinearSVC()  is  0.6151645207439199\n"
     ]
    }
   ],
   "source": [
    "# Algorithms\n",
    "\n",
    "# Word2Vec contains negative values of input data which is not acceptible by MultinomialNB().\n",
    "\n",
    "# Skipping MultinomialNB() for Word2Vec\n",
    "\n",
    "# MultinomialNB, LogisticRegression, LinearSVC, DecisionTreeClassifier\n",
    "model_names = [MultinomialNB(), LogisticRegression(), LinearSVC(), DecisionTreeClassifier()]\n",
    "\n",
    "models = [LogisticRegression(max_iter=1000), LinearSVC(max_iter=10000, dual=True), DecisionTreeClassifier()]\n",
    "accuracies_w2v = []\n",
    "\n",
    "# For MultinomialNB()\n",
    "accuracies_w2v.append(\"NA\")\n",
    "\n",
    "# Fit the models\n",
    "for model in models:\n",
    "    model.fit(X_train_w2v,y_train_w2v)\n",
    "    y_predict_w2v = model.predict(X_test_w2v)\n",
    "    acc = accuracy_score(y_test_w2v, y_predict_w2v)\n",
    "    accuracies_w2v.append(acc)\n",
    "    print(\"Accuracy for\", model_names[models.index(model)], \" is \", acc)"
   ]
  },
  {
   "cell_type": "markdown",
   "metadata": {},
   "source": [
    "> Final Data"
   ]
  },
  {
   "cell_type": "code",
   "execution_count": 297,
   "metadata": {},
   "outputs": [
    {
     "data": {
      "text/plain": [
       "[MultinomialNB(), LogisticRegression(), LinearSVC(), DecisionTreeClassifier()]"
      ]
     },
     "execution_count": 297,
     "metadata": {},
     "output_type": "execute_result"
    }
   ],
   "source": [
    "model_names"
   ]
  },
  {
   "cell_type": "code",
   "execution_count": 298,
   "metadata": {},
   "outputs": [
    {
     "data": {
      "text/html": [
       "<div>\n",
       "<style scoped>\n",
       "    .dataframe tbody tr th:only-of-type {\n",
       "        vertical-align: middle;\n",
       "    }\n",
       "\n",
       "    .dataframe tbody tr th {\n",
       "        vertical-align: top;\n",
       "    }\n",
       "\n",
       "    .dataframe thead th {\n",
       "        text-align: right;\n",
       "    }\n",
       "</style>\n",
       "<table border=\"1\" class=\"dataframe\">\n",
       "  <thead>\n",
       "    <tr style=\"text-align: right;\">\n",
       "      <th></th>\n",
       "      <th>CountVectorizer</th>\n",
       "      <th>Doc2Vec</th>\n",
       "      <th>Word2Vec</th>\n",
       "    </tr>\n",
       "  </thead>\n",
       "  <tbody>\n",
       "    <tr>\n",
       "      <th>MultinomialNB()</th>\n",
       "      <td>0.981402</td>\n",
       "      <td>NA</td>\n",
       "      <td>NA</td>\n",
       "    </tr>\n",
       "    <tr>\n",
       "      <th>LogisticRegression()</th>\n",
       "      <td>0.951359</td>\n",
       "      <td>0.556509</td>\n",
       "      <td>0.643777</td>\n",
       "    </tr>\n",
       "    <tr>\n",
       "      <th>LinearSVC()</th>\n",
       "      <td>0.949928</td>\n",
       "      <td>0.556509</td>\n",
       "      <td>0.645207</td>\n",
       "    </tr>\n",
       "    <tr>\n",
       "      <th>DecisionTreeClassifier()</th>\n",
       "      <td>0.884120</td>\n",
       "      <td>0.48927</td>\n",
       "      <td>0.615165</td>\n",
       "    </tr>\n",
       "  </tbody>\n",
       "</table>\n",
       "</div>"
      ],
      "text/plain": [
       "                          CountVectorizer   Doc2Vec  Word2Vec\n",
       "MultinomialNB()                  0.981402        NA        NA\n",
       "LogisticRegression()             0.951359  0.556509  0.643777\n",
       "LinearSVC()                      0.949928  0.556509  0.645207\n",
       "DecisionTreeClassifier()         0.884120   0.48927  0.615165"
      ]
     },
     "execution_count": 298,
     "metadata": {},
     "output_type": "execute_result"
    }
   ],
   "source": [
    "final_data = {'CountVectorizer': accuracies_cove, 'Doc2Vec': accuracies_d2v, 'Word2Vec': accuracies_w2v}\n",
    "df = pd.DataFrame(final_data, index=model_names)\n",
    "df"
   ]
  }
 ],
 "metadata": {
  "kernelspec": {
   "display_name": ".venv",
   "language": "python",
   "name": "python3"
  },
  "language_info": {
   "codemirror_mode": {
    "name": "ipython",
    "version": 3
   },
   "file_extension": ".py",
   "mimetype": "text/x-python",
   "name": "python",
   "nbconvert_exporter": "python",
   "pygments_lexer": "ipython3",
   "version": "3.10.0"
  }
 },
 "nbformat": 4,
 "nbformat_minor": 2
}
